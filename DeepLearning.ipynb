{
 "cells": [
  {
   "cell_type": "code",
   "execution_count": 1,
   "metadata": {
    "collapsed": true
   },
   "outputs": [],
   "source": [
    "import numpy as np\n",
    "import pandas as pd\n",
    "from sklearn.metrics import confusion_matrix, roc_auc_score\n",
    "from sklearn.model_selection import KFold\n",
    "from keras import models, regularizers\n",
    "from keras import layers\n",
    "from numpy.random import seed\n",
    "import tensorflow as tf\n",
    "\n",
    "seed(1610)\n",
    "tf.random.set_seed(1610)"
   ]
  },
  {
   "cell_type": "code",
   "execution_count": 2,
   "outputs": [],
   "source": [
    "train_data = pd.read_excel('Molecules.xlsx')\n",
    "\n",
    "train_data = train_data.sample(frac=1)\n",
    "# train_data.head()\n",
    "# train_data.dtypes\n"
   ],
   "metadata": {
    "collapsed": false,
    "pycharm": {
     "name": "#%%\n"
    }
   }
  },
  {
   "cell_type": "code",
   "execution_count": 3,
   "outputs": [],
   "source": [
    "X = train_data.iloc[:, 4:131]\n",
    "Y = train_data.iloc[:,0]\n",
    "\n",
    "X = X.values\n",
    "Y = Y.values"
   ],
   "metadata": {
    "collapsed": false,
    "pycharm": {
     "name": "#%%\n"
    }
   }
  },
  {
   "cell_type": "code",
   "execution_count": 4,
   "outputs": [],
   "source": [
    "kf = KFold(n_splits = 8, shuffle=True)"
   ],
   "metadata": {
    "collapsed": false,
    "pycharm": {
     "name": "#%%\n"
    }
   }
  },
  {
   "cell_type": "code",
   "execution_count": 5,
   "outputs": [],
   "source": [
    "train_sets =[]\n",
    "test_sets = []\n",
    "for train_index, test_index in kf.split(X, Y):\n",
    "    train_sets.append(train_index)\n",
    "    test_sets.append(test_index)\n"
   ],
   "metadata": {
    "collapsed": false,
    "pycharm": {
     "name": "#%%\n"
    }
   }
  },
  {
   "cell_type": "code",
   "execution_count": 6,
   "outputs": [],
   "source": [
    "model1 = models.Sequential()\n",
    "model1.add(layers.Dense(256, activation='relu'))\n",
    "model1.add(layers.Dense(1, activation='sigmoid'))\n",
    "model1.compile(optimizer='Adam',\n",
    "              loss = 'categorical_crossentropy',\n",
    "              metrics=['accuracy'])\n",
    "\n",
    "model11 = models.Sequential()\n",
    "model11.add(layers.Dense(128, activation='relu'))\n",
    "model11.add(layers.Dense(1, activation='sigmoid'))\n",
    "model11.compile(optimizer='Adam',\n",
    "              loss = 'categorical_crossentropy',\n",
    "              metrics=['accuracy'])\n",
    "\n",
    "model2 = models.Sequential()\n",
    "model2.add(layers.Dense(256, activation='relu')) #, kernel_regularizer = regularizers.l2(0.1)))\n",
    "model2.add(layers.Dense(256, activation='relu')) #, kernel_regularizer = regularizers.l2(0.1)))\n",
    "model2.add(layers.Dense(1, activation='sigmoid'))\n",
    "model2.compile(optimizer='Adam',\n",
    "              loss = 'categorical_crossentropy',\n",
    "              metrics=['accuracy'])\n",
    "\n",
    "model21 = models.Sequential()\n",
    "model21.add(layers.Dense(128, activation='relu')) #, kernel_regularizer = regularizers.l2(0.1)))\n",
    "model21.add(layers.Dense(128, activation='relu')) #, kernel_regularizer = regularizers.l2(0.1)))\n",
    "model21.add(layers.Dense(1, activation='sigmoid'))\n",
    "model21.compile(optimizer='Adam',\n",
    "              loss = 'categorical_crossentropy',\n",
    "              metrics=['accuracy'])\n",
    "\n",
    "model3 = models.Sequential()\n",
    "model3.add(layers.Dense(256, activation='relu')) #, kernel_regularizer = regularizers.l2(0.1)))\n",
    "model3.add(layers.Dropout(0.5))\n",
    "model3.add(layers.Dense(1, activation='sigmoid'))\n",
    "model3.compile(optimizer='Adam',\n",
    "              loss = 'categorical_crossentropy',\n",
    "              metrics=['accuracy'])\n",
    "\n",
    "model31 = models.Sequential()\n",
    "model31.add(layers.Dense(128, activation='relu')) #, kernel_regularizer = regularizers.l2(0.1)))\n",
    "model31.add(layers.Dropout(0.5))\n",
    "model31.add(layers.Dense(1, activation='sigmoid'))\n",
    "model31.compile(optimizer='Adam',\n",
    "              loss = 'categorical_crossentropy',\n",
    "              metrics=['accuracy'])\n",
    "\n",
    "model4 = models.Sequential()\n",
    "model4.add(layers.Dense(256, activation='relu'))\n",
    "model4.add(layers.Dropout(0.5))\n",
    "model4.add(layers.Dense(256, activation='relu'))\n",
    "model4.add(layers.Dropout(0.5))\n",
    "model4.add(layers.Dense(1, activation='sigmoid'))\n",
    "model4.compile(optimizer='Adam',\n",
    "              loss = 'categorical_crossentropy',\n",
    "              metrics=['accuracy'])\n",
    "\n",
    "model41 = models.Sequential()\n",
    "model41.add(layers.Dense(128, activation='relu'))\n",
    "model41.add(layers.Dropout(0.5))\n",
    "model41.add(layers.Dense(128, activation='relu'))\n",
    "model41.add(layers.Dropout(0.5))\n",
    "model41.add(layers.Dense(1, activation='sigmoid'))\n",
    "model41.compile(optimizer='Adam',\n",
    "              loss = 'categorical_crossentropy',\n",
    "              metrics=['accuracy'])\n",
    "\n",
    "Accuracy = []\n",
    "AUC = []\n",
    "min_train_error = []\n",
    "models = []\n",
    "best_models = []\n",
    "\n",
    "for i in range(8):\n",
    "    X_train = X[train_sets[i],:]\n",
    "    Y_train = Y[train_sets[i]]\n",
    "\n",
    "    X_test = X[test_sets[i],:]\n",
    "    Y_test = Y[test_sets[i]]\n",
    "\n",
    "    mean = X_train.mean(axis=0)\n",
    "    X_train -= mean\n",
    "    std = X_train.std(axis=0)\n",
    "    X_train /= std\n",
    "\n",
    "    X_test -= mean\n",
    "    X_test /= std\n",
    "\n",
    "    min_train_error = []\n",
    "\n",
    "    history1 = model1.fit(X_train, Y_train, epochs = 100, batch_size = 64, verbose = 0)\n",
    "    train_error1 = history1.history['accuracy']\n",
    "    min_train_error.append(train_error1[99])\n",
    "    models.append(model1)\n",
    "\n",
    "    history11 = model11.fit(X_train, Y_train, epochs = 100, batch_size = 64, verbose = 0)\n",
    "    train_error11 = history11.history['accuracy']\n",
    "    min_train_error.append(train_error11[99])\n",
    "    models.append(model11)\n",
    "\n",
    "    history2 = model2.fit(X_train, Y_train, epochs = 100, batch_size = 64, verbose = 0)\n",
    "    train_error2 = history2.history['accuracy']\n",
    "    min_train_error.append(train_error2[99])\n",
    "    models.append(model2)\n",
    "\n",
    "    history21 = model21.fit(X_train, Y_train, epochs = 100, batch_size = 64, verbose = 0)\n",
    "    train_error21 = history21.history['accuracy']\n",
    "    min_train_error.append(train_error21[99])\n",
    "    models.append(model21)\n",
    "\n",
    "    history3 = model3.fit(X_train, Y_train, epochs = 100, batch_size = 64, verbose = 0)\n",
    "    train_error3 = history3.history['accuracy']\n",
    "    min_train_error.append(train_error3[99])\n",
    "    models.append(model3)\n",
    "\n",
    "    history31 = model31.fit(X_train, Y_train, epochs = 100, batch_size = 64, verbose = 0)\n",
    "    train_error31 = history31.history['accuracy']\n",
    "    min_train_error.append(train_error31[99])\n",
    "    models.append(model31)\n",
    "\n",
    "    history4 = model4.fit(X_train, Y_train, epochs = 100, batch_size = 64, verbose = 0)\n",
    "    train_error4 = history4.history['accuracy']\n",
    "    min_train_error.append(train_error4[99])\n",
    "    models.append(model4)\n",
    "\n",
    "    history41 = model41.fit(X_train, Y_train, epochs = 100, batch_size = 64, verbose = 0)\n",
    "    train_error41 = history41.history['accuracy']\n",
    "    min_train_error.append(train_error41[99])\n",
    "    models.append(model41)\n",
    "\n",
    "    best_model = []\n",
    "    best_model =  np.argmin(min_train_error)\n",
    "\n",
    "    best_models.append('model'+str(best_model))\n",
    "\n",
    "    Yhat = models[best_model].predict(X_test)\n",
    "\n",
    "    Yhat_01 = np.where(Yhat > 0.5, 1, 0)\n",
    "    conf = confusion_matrix(Y_test, Yhat_01)\n",
    "    Accuracy.append(sum(conf[i][i] for i in range(2))/sum(conf[i][j] for i in range(2) for j in range(2)))\n",
    "\n",
    "    AUC.append(roc_auc_score(Y_test, Yhat))"
   ],
   "metadata": {
    "collapsed": false,
    "pycharm": {
     "name": "#%%\n"
    }
   }
  },
  {
   "cell_type": "code",
   "execution_count": 7,
   "outputs": [
    {
     "name": "stdout",
     "output_type": "stream",
     "text": [
      "['model3', 'model7', 'model3', 'model5', 'model3', 'model5', 'model2', 'model3']\n"
     ]
    }
   ],
   "source": [
    "print(best_models)"
   ],
   "metadata": {
    "collapsed": false,
    "pycharm": {
     "name": "#%%\n"
    }
   }
  },
  {
   "cell_type": "code",
   "execution_count": 8,
   "outputs": [
    {
     "name": "stdout",
     "output_type": "stream",
     "text": [
      "Accuracy: mean:  0.5108695652173914 sd:  0.02300344925837314\n"
     ]
    }
   ],
   "source": [
    "print(\"Accuracy: mean: \", np.mean(Accuracy), \"sd: \", np.std(Accuracy))"
   ],
   "metadata": {
    "collapsed": false,
    "pycharm": {
     "name": "#%%\n"
    }
   }
  },
  {
   "cell_type": "code",
   "execution_count": 9,
   "outputs": [
    {
     "name": "stdout",
     "output_type": "stream",
     "text": [
      "AUC: mean:  0.5165956834330954 sd:  0.03208902793508766\n"
     ]
    }
   ],
   "source": [
    "print(\"AUC: mean: \", np.mean(AUC), \"sd: \", np.std(AUC))"
   ],
   "metadata": {
    "collapsed": false,
    "pycharm": {
     "name": "#%%\n"
    }
   }
  }
 ],
 "metadata": {
  "kernelspec": {
   "display_name": "Python 3",
   "language": "python",
   "name": "python3"
  },
  "language_info": {
   "codemirror_mode": {
    "name": "ipython",
    "version": 2
   },
   "file_extension": ".py",
   "mimetype": "text/x-python",
   "name": "python",
   "nbconvert_exporter": "python",
   "pygments_lexer": "ipython2",
   "version": "2.7.6"
  }
 },
 "nbformat": 4,
 "nbformat_minor": 0
}